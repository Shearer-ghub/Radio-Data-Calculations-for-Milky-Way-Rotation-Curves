{
 "cells": [
  {
   "cell_type": "markdown",
   "id": "legislative-nigeria",
   "metadata": {},
   "source": [
    "The reason for changing the txt files to CSV is just simply that I prefer the method of calling each text file sequentially and only import necessary slots at a time, its less resource intensive and my laptop is quite slow! I also changed the names of the files from their respective galactic co-ordinates to simply numbering 1-44. If needed I've attached the files aswell as this code on my github."
   ]
  },
  {
   "cell_type": "code",
   "execution_count": 3,
   "id": "consecutive-chile",
   "metadata": {},
   "outputs": [
    {
     "name": "stdout",
     "output_type": "stream",
     "text": [
      "['# Galactic Coordinates: l = 10.0, b = 0.0', '# RA: 18h07m45.7014s, Dec: -20d17m24.1062s', '# Julian Date: 2456032.74191, LST: 18.2675', '# LSR Correction: -40.4644 km/s', '#']\n"
     ]
    }
   ],
   "source": [
    "import pandas as pd\n",
    "\n",
    "# We will store all the comments here as a dictionary. Enter the key (file number e.g. 2 to get it's comments)\n",
    "data_comments = {}\n",
    "\n",
    "# The range of filenames. In this case it's from 1.txt to 44.txt\n",
    "for i in range(44):\n",
    "    if i != 0:  # I don't think we have a file called 0.txt. If we do, remove this line\n",
    "        file = open(str(i) + \".txt\")\n",
    "\n",
    "        read_comments = [0, 1, 2, 3, 4]  # Range of lines for which the comments are on\n",
    "        read_headers = [5]  # The line on which the headers are on\n",
    "\n",
    "        headers = []\n",
    "        comments = []  # Comments on the top of the page. Do as you wish with them.\n",
    "\n",
    "        # Get the header names and store in list\n",
    "        for position, line in enumerate(file):\n",
    "            if position in read_headers:\n",
    "                headers.append(line.split())\n",
    "            elif position in read_comments:\n",
    "                comments.append(line.strip('\\n'))\n",
    "\n",
    "        data_comments[str(i)] = comments\n",
    "\n",
    "        # Open the .txt file with only the data points & add the headers from before.\n",
    "        data = pd.read_table(str(i) + \".txt\", delimiter=\" \", skiprows=6, names=headers[0])\n",
    "\n",
    "        # Save as .csv\n",
    "        data.to_csv(str(i) + \".csv\", index=False)\n",
    "\n",
    "# To access an individual comments if needed, enter the file number below\n",
    "print(data_comments['4'])\n"
   ]
  },
  {
   "cell_type": "code",
   "execution_count": null,
   "id": "proper-truth",
   "metadata": {},
   "outputs": [],
   "source": []
  }
 ],
 "metadata": {
  "kernelspec": {
   "display_name": "Python 3",
   "language": "python",
   "name": "python3"
  },
  "language_info": {
   "codemirror_mode": {
    "name": "ipython",
    "version": 3
   },
   "file_extension": ".py",
   "mimetype": "text/x-python",
   "name": "python",
   "nbconvert_exporter": "python",
   "pygments_lexer": "ipython3",
   "version": "3.7.1"
  }
 },
 "nbformat": 4,
 "nbformat_minor": 5
}
